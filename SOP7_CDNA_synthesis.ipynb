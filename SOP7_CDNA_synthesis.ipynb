{
  "nbformat": 4,
  "nbformat_minor": 0,
  "metadata": {
    "colab": {
      "provenance": [],
      "toc_visible": true,
      "authorship_tag": "ABX9TyMMQPmBBkIAoDCDCD1iA+Py",
      "include_colab_link": true
    },
    "kernelspec": {
      "name": "python3",
      "display_name": "Python 3"
    },
    "language_info": {
      "name": "python"
    }
  },
  "cells": [
    {
      "cell_type": "markdown",
      "metadata": {
        "id": "view-in-github",
        "colab_type": "text"
      },
      "source": [
        "<a href=\"https://colab.research.google.com/github/ekaterina-epetrova/Conference-Info/blob/master/SOP7_CDNA_synthesis.ipynb\" target=\"_parent\"><img src=\"https://colab.research.google.com/assets/colab-badge.svg\" alt=\"Open In Colab\"/></a>"
      ]
    },
    {
      "cell_type": "code",
      "source": [
        "def freezing_medium(fv, fbs, dmso):\n",
        "  \"\"\"Calculates volumes for RPMI_1640, FBS, and DMSO.\n",
        "\n",
        "  Args:\n",
        "    fv: Final volume.\n",
        "    fbs: FBS percentage.\n",
        "    dmso: DMSO percentage.\n",
        "\n",
        "  Returns:\n",
        "    A dictionary with volumes for RPMI, FBS, and DMSO.\n",
        "  \"\"\"\n",
        "\n",
        "  return {'RPMI_1640': fv - fv*fbs/100 - fv*dmso/100, 'FBS': fv*fbs/100, 'DMSO': fv*dmso/100}"
      ],
      "metadata": {
        "id": "y-Owj2HazCOO"
      },
      "execution_count": 1,
      "outputs": []
    },
    {
      "cell_type": "markdown",
      "source": [
        "## Summary\n",
        "\n",
        "This protocol describes the freezing and thawing of PBMCs. The PBMCs are isolated according to SOP1.\n",
        "\n",
        "The protocol is adapted from:\n",
        "1. [ref](https://www.sciencedirect.com/science/article/pii/S0006497120474919#fig1)\n",
        "2. [ref](https://www.bdbiosciences.com/content/dam/bdb/marketing-documents/BD-Protocol-Freezing-PBMCs.pdf)"
      ],
      "metadata": {
        "id": "FN-Ak0ghDnwG"
      }
    },
    {
      "cell_type": "markdown",
      "source": [
        "## Key resources table\n",
        "\n",
        "| Reagent or Resource | Source | Identifier | Other |\n",
        "|---|---|---|---|\n",
        "| **Chemicals** |  |  |  |\n",
        "| RPMI 1640 |  |  | Always shake before use |\n",
        "| FBS |  |  |  |\n",
        "| DMSO |  |  |  |\n",
        "| **Experimental models: Organisms/strains** |  |  |  |\n",
        "| porcine PBMCs |  |  |  |\n",
        "| **Other** |  |  |  |\n",
        "| Cryovials |  |  |  |\n",
        "| Isopropanol freezing container |  |  | Place at 4ºC |"
      ],
      "metadata": {
        "id": "M7OF_2hQan4i"
      }
    },
    {
      "cell_type": "markdown",
      "source": [
        "## Step-by-Step Method\n",
        "\n",
        "### Freezing PBMCs:\n",
        "\n",
        "1. **Preparation of working solutions**\n",
        "  1. Thaw DMSO at RT.\n",
        "  2. Inactivate FBS in a 56°C water bath for 30 min.\n",
        "2. To prepare the final freezing medium, add 5 mL of DMSO to 20 mL of heat-inactivated FBS (as an example).\n",
        "3. Store at 4ºC (in a 2–8ºC refrigerator).\n",
        "  2. Prepare freezing medium:\n",
        "   * Calculate volumes using the the function: `freezing_medium(final_volume, fbs_percent, dmso_percent)`\n",
        "   * Mix RPMI 1640, FBS, and DMSO according to calculated volumes.\n",
        "  3. Place the isopropanol freezing container at 4°C.\n",
        "   \n",
        "2. **Prepare PBMC suspension:**\n",
        "   * Resuspend PBMCs in freezing medium at a desired concentration (e.g., 10-50 x 10^7 cells/mL).\n",
        "\n",
        "3. **Aliquot and store the PBMCs:**\n",
        "   * Distribute 1 mL PBMC suspension into cryogenic vial.\n",
        "   * Place the vials in a isopropanol freezing container.\n",
        "   * Store at -80°C for at least 24 h, then transfer to -180°C for long-term storage.\n",
        "\n",
        "### Thawing PBMCs (Version 1)\n",
        "\n",
        "1. **Before beginning**\n",
        "   * Set water bath to 37°C.\n",
        "   * Pre-warm FBS and RPMI 1640.\n",
        "2. **Thaw cryovials:**\n",
        "   * Obtain and place the cryovials on dry ice.\n",
        "   * Rapidly thaw cryovials in a 37°C water bath.\n",
        "   * Clean vial with ethanol.\n",
        "3. **Prepare PBMC suspension:**\n",
        "   * Transfer thawed PBMCs dropwise into 3 mL pre-warmed FBS.\n",
        "   * Add 12 mL pre-warmed RPMI 1640.\n",
        "4. **Centrifuge and wash:**\n",
        "   * Centrifuge the PBMCs at 300 x g for 5 minutes at RT. Discard the supernatant by pipetting.\n",
        "   * Resuspend pellet in 10 mL pre-warmed RPMI 1640 with 10% FBS.\n",
        "5. **Assess cell viability and concentration:**\n",
        "   * Perform cell viability and concentration assessment using an automatic cell counter. Premix 2 ul dye with 18 ul PBMCs and load 10 ul on the cell counter"
      ],
      "metadata": {
        "id": "3h-0QpB9amvq"
      }
    },
    {
      "cell_type": "code",
      "source": [
        "freezing_medium(100, 20, 10)"
      ],
      "metadata": {
        "id": "CrQk-YmcyLXy",
        "outputId": "7ce58af4-9f93-4fe2-e314-5daf3cc82739",
        "colab": {
          "base_uri": "https://localhost:8080/"
        }
      },
      "execution_count": 2,
      "outputs": [
        {
          "output_type": "execute_result",
          "data": {
            "text/plain": [
              "{'RPMI_1640': 70.0, 'FBS': 20.0, 'DMSO': 10.0}"
            ]
          },
          "metadata": {},
          "execution_count": 2
        }
      ]
    },
    {
      "cell_type": "code",
      "source": [],
      "metadata": {
        "id": "icbfz6TYPuAi"
      },
      "execution_count": null,
      "outputs": []
    }
  ]
}