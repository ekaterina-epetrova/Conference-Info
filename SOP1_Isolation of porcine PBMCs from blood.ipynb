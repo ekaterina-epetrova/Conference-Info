{
  "nbformat": 4,
  "nbformat_minor": 0,
  "metadata": {
    "colab": {
      "provenance": [],
      "toc_visible": true,
      "authorship_tag": "ABX9TyOynx5yU3pTbebymFoh0LIR",
      "include_colab_link": true
    },
    "kernelspec": {
      "name": "python3",
      "display_name": "Python 3"
    },
    "language_info": {
      "name": "python"
    }
  },
  "cells": [
    {
      "cell_type": "markdown",
      "metadata": {
        "id": "view-in-github",
        "colab_type": "text"
      },
      "source": [
        "<a href=\"https://colab.research.google.com/github/ekaterina-epetrova/Conference-Info/blob/master/SOP1_Isolation%20of%20porcine%20PBMCs%20from%20blood.ipynb\" target=\"_parent\"><img src=\"https://colab.research.google.com/assets/colab-badge.svg\" alt=\"Open In Colab\"/></a>"
      ]
    },
    {
      "cell_type": "code",
      "source": [
        "def freezing_medium(fv, fb, dm):\n",
        "  \"\"\"Calculates volumes for RPMI_1640, FBS, and DMSO.\n",
        "\n",
        "  Args:\n",
        "    fv: Final volume.\n",
        "    fb: FBS percentage.\n",
        "    dm: DMSO percentage.\n",
        "\n",
        "  Returns:\n",
        "    A dictionary with volumes for RPMI, FBS, and DMSO.\n",
        "  \"\"\"\n",
        "\n",
        "  return {'RPMI_1640': fv - fv*fb/100 - fv*dm/100, 'FBS': fv*fb/100, 'DMSO': fv*dm/100}"
      ],
      "metadata": {
        "id": "y-Owj2HazCOO"
      },
      "execution_count": null,
      "outputs": []
    },
    {
      "cell_type": "markdown",
      "source": [
        "# **Isolation of porcine PBMC from blood**\n",
        "\n",
        "## Summary\n",
        "This protocol describes the procedures for isolation of porcine PBMC from blood.\n",
        "Prior to the PBMC isolation:\n",
        "1. Book the blood collection on the calendar up to 1 week in advance or 2 pm the day before.\n",
        "2. Prepare Alsever blood collection bottle the day before.\n",
        "\n",
        "## **Key Resources Table**\n",
        "\n",
        "| **Reagent or Resource**                     | **Source**                     | **Identifier**            | **Other Information**                |\n",
        "|---------------------------------------------|--------------------------------|---------------------------|---------------------------------------|\n",
        "| **Chemicals**                               |                                |                           |                                       |\n",
        "| RPMI 1640                                   | Thermo Fisher Scientific       | 11875119                  | Culture medium                        |\n",
        "| Fetal Bovine Serum (FBS)                    | Gibco by Thermo Fisher         | 16000044                  | Heat-inactivated                      |\n",
        "| Dimethyl Sulfoxide (DMSO)                   | Sigma-Aldrich                  | D2650                     | Cell culture grade                    |\n",
        "| **Experimental Models: Organisms/Strains** | | | |\n",
        "| Porcine PBMCs | N/A | N/A | Isolated as described in SOP1,2,3 |\n",
        "| **Other** | | | |\n",
        "| Cryovials | Nalgene | 5000-0020 | |\n",
        "| Isopropanol freezing container | Nalgene | 5100-0001 | Pre-chilled to 4ºC |\n",
        "| LUNA Cell Counting Slides | Logos Biosystems | L12001 | |\n",
        "| Acridine Orange/Propidium Iodide Stain | Logos Biosystems | F23001 | |\n",
        "\n",
        "## **Step-by-Step Method Details**\n",
        "\n",
        "### **Before You Begin**\n",
        "1. Set centrifuges at appropriate temperatures (RT and 4°C).\n",
        "2. Prepare PBS/EDTA and RBC buffers if not available.\n",
        "2. Prepare Leucosep Tubes:\n",
        "  * Add 16 mL Ficoll to each Leucosep tube.\n",
        "  * Spin down the tubes for 1 minute at 1000 x g.\n",
        "  * Carefully remove any excess Ficoll by pipetting.\n",
        "\n",
        "### **Procedure**\n",
        "\n",
        "1. Transfer the collected blood evenly into 50 mL Falcon tubes.\n",
        "2. Centrifuge the tubes at 1000 x g for 20 minutes at RT with no brake.\n",
        "3. Carefully remove the serum by pipetting and pool the buffy coat layers by pipetting from the tubes into a sterile bottle.\n",
        "4. Add an equal volume of PBS/EDTA buffer (RT) to the pooled buffy coats.\n",
        "5. Transfer the buffy coat mixture evenly into the Leucosep tubes containing Ficoll.\n",
        "6. Centrifuge the Leucosep tubes at 800 x g for 25 minutes at RT with no brake.\n",
        "4. Carefully pool the PBMCs by pipetting into a new sterile bottle.\n",
        "8. Distribute the collected PBMCs into 50 mL tubes, with a maximum of 7 mL per tube (typically around 5 mL/tube).\n",
        "Fill each tube with cold PBS/EDTA and centrifuge at 350g for 10 minutes at 4°C.\n",
        "4.3 Subsequent Washes\n",
        "\n",
        "9. Resuspend the pellet in 50 mL ice cold PBS/EDTA buffer and pool by combining every two tubes.\n",
        "10. Centrifuge the tubes at 250 x g for 10 minutes at 4°C.\n",
        "11. Repeat the resuspension and centrifugation steps one more time\n",
        "5. Final Resuspension and Cell Counting\n",
        "5.1 Final Resuspension\n",
        "\n",
        "Resuspend the final pellet in 5 mL of cold PBS/EDTA.\n",
        "Take a small sample for cell counting.\n",
        "5.2 Count Cells\n",
        "\n",
        "Dilute the cells 100x with Türk solution by mixing 10 µL of cells with 90 µL of Türk solution. Then, dilute this mixture 10x by mixing 10 µL with 90 µL of Türk solution.\n",
        "Using a hemocytometer, count cells in the four blue squares and calculate the mean.\n",
        "Formula: Number of cells (mean) × dilution × 10⁴ = number of cells/mL.\n",
        "5.3 Final Wash\n",
        "\n",
        "Fill the tube with cold PBS/EDTA and centrifuge at 250g for 10 minutes at 4°C.\n",
        "5.4 Final Resuspension\n",
        "\n",
        "Resuspend PBMCs in the desired buffer or medium suitable for your subsequent experiments.\n",
        "6. Optional: Red Blood Cell Removal\n",
        "6.1 Lyse RBCs\n",
        "\n",
        "After the third wash, resuspend the cells in 5 mL of RBC lysis buffer.\n",
        "Incubate on ice for 3 minutes (time may vary depending on the lysis buffer batch).\n",
        "6.2 Post-Lysis Washes\n",
        "\n",
        "Wash the cells twice with 50 mL of cold PBS/EDTA, centrifuging at 250g for 10 minutes at 4°C after each wash.\n",
        "Additional Notes\n",
        "Storage:\n",
        "\n",
        "Store unused medium and PBS at 4°C.\n",
        "Store Leucosep tubes at -20°C; do not exceed 75% capacity to avoid rupture.\n",
        "Waste Disposal:\n",
        "\n",
        "Dispose of all waste materials, including used tubes, Ficoll, and biological waste, according to your laboratory’s safety and disposal guidelines.\n",
        "Important Remarks\n",
        "This protocol provides a general outline for PBMC isolation. Specific modifications may be necessary depending on experimental requirements and laboratory procedures.\n",
        "Adjust centrifugation speeds, times, and temperatures as required based on sample type and volume to optimize cell yield and viability.\n",
        "\n",
        "### **Prepare PBMC Suspension**\n",
        "1. Resuspend PBMCs in the prepared freezing medium to achieve the desired cell concentration (e.g., 10-50 x 10^6 cells/mL).\n",
        "\n",
        "#### **Aliquot and Store the PBMCs**\n",
        "1. Distribute 1 mL of the PBMC suspension into sterile cryogenic vials.\n",
        "2. Place the vials in the pre-chilled isopropanol freezing container.\n",
        "3. Store at -80°C for at least 24 hours.\n",
        "4. Transfer the cryovials to liquid nitrogen storage (-180°C) for long-term preservation.\n",
        "\n",
        "### **Thawing PBMCs**\n",
        "\n",
        "#### **Before You Begin**\n",
        "1. Set the water bath to 37°C.\n",
        "2. Warm up FBS and RPMI 1640 to 37°C.\n",
        "\n",
        "#### **Thaw Cryovials**\n",
        "1. Quickly transfer cryovial(s) from liquid nitrogen storage to a 37ºC water bath.\n",
        "2. Once a small ice chip remains, remove the cryovial from the water bath and immediately transfer to the biosafety hood.\n",
        "3. Clean the outside of the cryovial with 70% ethanol.\n",
        "\n",
        "#### **Process the Thawed PBMCs**\n",
        "1. Transfer the thawed PBMCs dropwise into 3 mL of FBS in a 15 mL conical tube.\n",
        "2. Slowly add 12 mL of pre-warmed RPMI 1640 to the cell suspension.\n",
        "3. Centrifuge the cells at 300 x g for 5 minutes at room temperature. Carefully discard the supernatant by pipetting.\n",
        "4. Resuspend the cell pellet in 10 mL of pre-warmed RPMI 1640 supplemented with 10% FBS.\n",
        "\n",
        "#### **Assess Cell Count and Viability**\n",
        "1. Count the cells using an automated cell counter. Premix 18 ul cell suspension with 2 ul dye.\n",
        "\n"
      ],
      "metadata": {
        "id": "jimR70FMrkRq"
      }
    },
    {
      "cell_type": "code",
      "source": [
        "freezing_medium(100, 20, 10)"
      ],
      "metadata": {
        "id": "CrQk-YmcyLXy",
        "outputId": "761aaa4d-cfa7-47a5-c083-328c95e75000",
        "colab": {
          "base_uri": "https://localhost:8080/"
        }
      },
      "execution_count": null,
      "outputs": [
        {
          "output_type": "execute_result",
          "data": {
            "text/plain": [
              "{'RPMI_1640': 70.0, 'FBS': 20.0, 'DMSO': 10.0}"
            ]
          },
          "metadata": {},
          "execution_count": 4
        }
      ]
    }
  ]
}