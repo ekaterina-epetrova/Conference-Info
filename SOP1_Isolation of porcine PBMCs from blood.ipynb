{
  "nbformat": 4,
  "nbformat_minor": 0,
  "metadata": {
    "colab": {
      "provenance": [],
      "toc_visible": true,
      "authorship_tag": "ABX9TyPkIEbIsJWWD4nPo2IBD8bl",
      "include_colab_link": true
    },
    "kernelspec": {
      "name": "python3",
      "display_name": "Python 3"
    },
    "language_info": {
      "name": "python"
    }
  },
  "cells": [
    {
      "cell_type": "markdown",
      "metadata": {
        "id": "view-in-github",
        "colab_type": "text"
      },
      "source": [
        "<a href=\"https://colab.research.google.com/github/ekaterina-epetrova/Conference-Info/blob/master/SOP1_Isolation%20of%20porcine%20PBMCs%20from%20blood.ipynb\" target=\"_parent\"><img src=\"https://colab.research.google.com/assets/colab-badge.svg\" alt=\"Open In Colab\"/></a>"
      ]
    },
    {
      "cell_type": "code",
      "source": [
        "def freezing_medium(fv, fb, dm):\n",
        "  \"\"\"Calculates volumes for RPMI_1640, FBS, and DMSO.\n",
        "\n",
        "  Args:\n",
        "    fv: Final volume.\n",
        "    fb: FBS percentage.\n",
        "    dm: DMSO percentage.\n",
        "\n",
        "  Returns:\n",
        "    A dictionary with volumes for RPMI, FBS, and DMSO.\n",
        "  \"\"\"\n",
        "\n",
        "  return {'RPMI_1640': fv - fv*fb/100 - fv*dm/100, 'FBS': fv*fb/100, 'DMSO': fv*dm/100}"
      ],
      "metadata": {
        "id": "y-Owj2HazCOO"
      },
      "execution_count": null,
      "outputs": []
    },
    {
      "cell_type": "markdown",
      "source": [
        "# **Isolation of porcine PBMC from blood**\n",
        "\n",
        "## Summary\n",
        "This protocol describes the procedures for isolation of porcine PBMC from blood.\n",
        "Prior to the PBMC isolation:\n",
        "1. Book the blood collection on the calendar up to 1 week in advance or 2 pm the day before.\n",
        "2. Prepare Alsever blood collection bottle the day before.\n",
        "\n",
        "## **Key Resources Table**\n",
        "\n",
        "| **Reagent or Resource**                     | **Source**                     | **Identifier**            | **Other Information**                |\n",
        "|---------------------------------------------|--------------------------------|---------------------------|---------------------------------------|\n",
        "| **Chemicals**                               |                                |                           |                                       |\n",
        "| RPMI 1640                                   | Thermo Fisher Scientific       | 11875119                  | Culture medium                        |\n",
        "| Fetal Bovine Serum (FBS)                    | Gibco by Thermo Fisher         | 16000044                  | Heat-inactivated                      |\n",
        "| Dimethyl Sulfoxide (DMSO)                   | Sigma-Aldrich                  | D2650                     | Cell culture grade                    |\n",
        "| **Experimental Models: Organisms/Strains** | | | |\n",
        "| Porcine PBMCs | N/A | N/A | Isolated as described in SOP1,2,3 |\n",
        "| **Other** | | | |\n",
        "| Cryovials | Nalgene | 5000-0020 | |\n",
        "| Isopropanol freezing container | Nalgene | 5100-0001 | Pre-chilled to 4ºC |\n",
        "| LUNA Cell Counting Slides | Logos Biosystems | L12001 | |\n",
        "| Acridine Orange/Propidium Iodide Stain | Logos Biosystems | F23001 | |\n",
        "\n",
        "## **Step-by-Step Method Details**\n",
        "\n",
        "### **Before You Begin**\n",
        "1. Set centrifuges at appropriate temperatures (RT and 4°C).\n",
        "2. Prepare PBS/EDTA and RBC buffers if not available.\n",
        "2. Prepare Leucosep Tubes:\n",
        "  * Add 16 mL Ficoll to each Leucosep tube.\n",
        "  * Spin down the tubes for 1 minute at 1000 x g.\n",
        "  * Carefully remove any excess Ficoll by pipetting.\n",
        "\n",
        "### **Procedure**\n",
        "\n",
        "1. Transfer the collected blood evenly into 50 mL Falcon tubes.\n",
        "2. Centrifuge the tubes at 1000 x g for 20 minutes at RT with no brake.\n",
        "3. Carefully remove the serum by pipetting and pool the buffy coat layers by pipetting from the tubes into a sterile bottle.\n",
        "4. Add an equal volume of PBS/EDTA buffer (RT) to the pooled buffy coats.\n",
        "5. Transfer the buffy coat mixture evenly into the Leucosep tubes containing Ficoll.\n",
        "6. Centrifuge the Leucosep tubes at 800 x g for 25 minutes at RT with no brake.\n",
        "4. Carefully pool the PBMCs by pipetting into a new sterile bottle.\n",
        "8. Transfer the collected PBMCs into 50 mL tubes, with a maximum of 7 mL per tube (typically around 5 mL/tube). Fill each tube with cold PBS/EDTA.\n",
        "9. Centrifuge the tubes at 350 x g for 10 minutes at 4°C.\n",
        "10. Resuspend the cell pellet in 50 mL ice cold PBS/EDTA buffer and pool by combining every two tubes.\n",
        "11. Centrifuge the tubes at 250 x g for 10 minutes at 4°C.\n",
        "12. Repeat the resuspension and centrifugation steps one more time.\n",
        "13. Resuspend the cell pellet in 5 mL RBC lysis buffer and incubate on ice for 3 minutes.\n",
        "14. Add up to 50 mL ice cold PBS/EDTA buffer to each tube.\n",
        "14. Centrifuge the tubes at 250 x g for 10 minutes at 4°C.\n",
        "15. Resuspend the cell pellet in 5 mL ice cold PBS/EDTA buffer\n",
        "\n",
        "\n",
        "\n",
        "### **Prepare PBMC Suspension**\n",
        "1. Resuspend PBMCs in the prepared freezing medium to achieve the desired cell concentration (e.g., 10-50 x 10^6 cells/mL).\n",
        "\n",
        "#### **Aliquot and Store the PBMCs**\n",
        "1. Distribute 1 mL of the PBMC suspension into sterile cryogenic vials.\n",
        "2. Place the vials in the pre-chilled isopropanol freezing container.\n",
        "3. Store at -80°C for at least 24 hours.\n",
        "4. Transfer the cryovials to liquid nitrogen storage (-180°C) for long-term preservation.\n",
        "\n",
        "\n",
        "\n"
      ],
      "metadata": {
        "id": "jimR70FMrkRq"
      }
    },
    {
      "cell_type": "code",
      "source": [
        "freezing_medium(100, 20, 10)"
      ],
      "metadata": {
        "id": "CrQk-YmcyLXy",
        "outputId": "761aaa4d-cfa7-47a5-c083-328c95e75000",
        "colab": {
          "base_uri": "https://localhost:8080/"
        }
      },
      "execution_count": null,
      "outputs": [
        {
          "output_type": "execute_result",
          "data": {
            "text/plain": [
              "{'RPMI_1640': 70.0, 'FBS': 20.0, 'DMSO': 10.0}"
            ]
          },
          "metadata": {},
          "execution_count": 4
        }
      ]
    }
  ]
}