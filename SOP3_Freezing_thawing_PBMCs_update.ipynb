{
  "nbformat": 4,
  "nbformat_minor": 0,
  "metadata": {
    "colab": {
      "provenance": [],
      "toc_visible": true,
      "authorship_tag": "ABX9TyOSHFHMwwyIz6hdMfImBrxB",
      "include_colab_link": true
    },
    "kernelspec": {
      "name": "python3",
      "display_name": "Python 3"
    },
    "language_info": {
      "name": "python"
    }
  },
  "cells": [
    {
      "cell_type": "markdown",
      "metadata": {
        "id": "view-in-github",
        "colab_type": "text"
      },
      "source": [
        "<a href=\"https://colab.research.google.com/github/ekaterina-epetrova/Conference-Info/blob/master/SOP3_Freezing_thawing_PBMCs_update.ipynb\" target=\"_parent\"><img src=\"https://colab.research.google.com/assets/colab-badge.svg\" alt=\"Open In Colab\"/></a>"
      ]
    },
    {
      "cell_type": "code",
      "source": [
        "def freezing_medium(fv, fb, dm):\n",
        "  \"\"\"Calculates volumes for RPMI_1640, FBS, and DMSO.\n",
        "\n",
        "  Args:\n",
        "    fv: Final volume.\n",
        "    fb: FBS percentage.\n",
        "    dm: DMSO percentage.\n",
        "\n",
        "  Returns:\n",
        "    A dictionary with volumes for RPMI, FBS, and DMSO.\n",
        "  \"\"\"\n",
        "\n",
        "  return {'RPMI_1640': fv - fv*fb/100 - fv*dm/100, 'FBS': fv*fb/100, 'DMSO': fv*dm/100}"
      ],
      "metadata": {
        "id": "y-Owj2HazCOO"
      },
      "execution_count": null,
      "outputs": []
    },
    {
      "cell_type": "markdown",
      "source": [
        "# **Freezing and Thawing of PBMCs**\n",
        "\n",
        "## Summary\n",
        "This protocol describes the procedures for freezing and thawing peripheral blood mononuclear cells (PBMCs). The PBMCs are isolated according to standard procedures and prepared for cryopreservation or use after thawing.\n",
        "\n",
        "## The protocol is adapted from:\n",
        "* [ref](https://www.sciencedirect.com/science/article/pii/S0006497120474919#fig1)\n",
        "* [ref2](https://www.bdbiosciences.com/content/dam/bdb/marketing-documents/BD-Protocol-Freezing-PBMCs.pdf)\n",
        "\n",
        "## **Key Resources Table**\n",
        "\n",
        "| **Reagent or Resource**                     | **Source**                     | **Identifier**            | **Other Information**                |\n",
        "|---------------------------------------------|--------------------------------|---------------------------|---------------------------------------|\n",
        "| **Chemicals**                               |                                |                           |                                       |\n",
        "| RPMI 1640                                   | Thermo Fisher Scientific       | 11875119                  | Culture medium                        |\n",
        "| Fetal Bovine Serum (FBS)                    | Gibco by Thermo Fisher         | 16000044                  | Heat-inactivated                      |\n",
        "| Dimethyl Sulfoxide (DMSO)                   | Sigma-Aldrich                  | D2650                     | Cell culture grade                    |\n",
        "| **Experimental Models: Organisms/Strains** | | | |\n",
        "| Porcine PBMCs | N/A | N/A | Isolated as described in SOP1,2,3 |\n",
        "| **Other** | | | |\n",
        "| Cryovials | Nalgene | 5000-0020 | |\n",
        "| Isopropanol freezing container | Nalgene | 5100-0001 | Pre-chilled to 4ºC |\n",
        "| LUNA Cell Counting Slides | Logos Biosystems | L12001 | |\n",
        "| Acridine Orange/Propidium Iodide Stain | Logos Biosystems | F23001 | |\n",
        "\n",
        "## **Step-by-Step Method Details**\n",
        "\n",
        "### **Freezing PBMCs**\n",
        "\n",
        "#### **Before You Begin**\n",
        "1. Thaw DMSO at RT.\n",
        "2. Prepare freezing medium by mixing RPMI 1640, FBS, and DMSO in the following proportions:\n",
        "    - Calculate the required volumes using the function `freezing_medium(final_volume, fbs_percent, dmso_percent)`.\n",
        "3. Place the isopropanol freezing container at 4°C.\n",
        "\n",
        "#### **Prepare PBMC Suspension**\n",
        "1. Resuspend PBMCs in the prepared freezing medium to achieve the desired cell concentration (e.g., 10-50 x 10^6 cells/mL).\n",
        "\n",
        "#### **Aliquot and Store the PBMCs**\n",
        "1. Distribute 1 mL of the PBMC suspension into sterile cryogenic vials.\n",
        "2. Place the vials in the pre-chilled isopropanol freezing container.\n",
        "3. Store at -80°C for at least 24 hours.\n",
        "4. Transfer the cryovials to liquid nitrogen storage (-180°C) for long-term preservation.\n",
        "\n",
        "### **Thawing PBMCs**\n",
        "\n",
        "#### **Before You Begin**\n",
        "1. Set the water bath to 37°C.\n",
        "2. Warm up FBS and RPMI 1640 to 37°C.\n",
        "\n",
        "#### **Thaw Cryovials**\n",
        "1. Quickly transfer cryovial(s) from liquid nitrogen storage to a 37ºC water bath.\n",
        "2. Once a small ice chip remains, remove the cryovial from the water bath and immediately transfer to the biosafety hood.\n",
        "3. Clean the outside of the cryovial with 70% ethanol.\n",
        "\n",
        "#### **Process the Thawed PBMCs**\n",
        "1. Transfer the thawed PBMCs dropwise into 3 mL of FBS in a 15 mL conical tube.\n",
        "2. Slowly add 12 mL of pre-warmed RPMI 1640 to the cell suspension.\n",
        "3. Centrifuge the cells at 300 x g for 5 minutes at room temperature. Carefully discard the supernatant by pipetting.\n",
        "4. Resuspend the cell pellet in 10 mL of pre-warmed RPMI 1640 supplemented with 10% FBS.\n",
        "\n",
        "#### **Assess Cell Count and Viability**\n",
        "1. Count the cells using an automated cell counter. Premix 18 ul cell suspension with 2 ul dye.\n",
        "\n",
        "### **Expected Results**\n",
        "- PBMCs should be well-preserved after freezing and exhibit high viability (>80%) post-thaw.\n"
      ],
      "metadata": {
        "id": "jimR70FMrkRq"
      }
    },
    {
      "cell_type": "code",
      "source": [
        "freezing_medium(100, 20, 10)"
      ],
      "metadata": {
        "id": "CrQk-YmcyLXy",
        "outputId": "761aaa4d-cfa7-47a5-c083-328c95e75000",
        "colab": {
          "base_uri": "https://localhost:8080/"
        }
      },
      "execution_count": null,
      "outputs": [
        {
          "output_type": "execute_result",
          "data": {
            "text/plain": [
              "{'RPMI_1640': 70.0, 'FBS': 20.0, 'DMSO': 10.0}"
            ]
          },
          "metadata": {},
          "execution_count": 4
        }
      ]
    }
  ]
}