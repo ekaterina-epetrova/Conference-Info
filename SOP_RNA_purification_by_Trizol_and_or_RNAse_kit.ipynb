{
  "nbformat": 4,
  "nbformat_minor": 0,
  "metadata": {
    "colab": {
      "provenance": [],
      "toc_visible": true,
      "authorship_tag": "ABX9TyPY1dQOreDML0J4U8h2kU66",
      "include_colab_link": true
    },
    "kernelspec": {
      "name": "python3",
      "display_name": "Python 3"
    },
    "language_info": {
      "name": "python"
    }
  },
  "cells": [
    {
      "cell_type": "markdown",
      "metadata": {
        "id": "view-in-github",
        "colab_type": "text"
      },
      "source": [
        "<a href=\"https://colab.research.google.com/github/ekaterina-epetrova/Conference-Info/blob/master/SOP_RNA_purification_by_Trizol_and_or_RNAse_kit.ipynb\" target=\"_parent\"><img src=\"https://colab.research.google.com/assets/colab-badge.svg\" alt=\"Open In Colab\"/></a>"
      ]
    },
    {
      "cell_type": "markdown",
      "source": [
        "## Summary\n",
        "\n",
        "This protocol describes the steps required to extract total RNA from sorted/non-sorted porcine PBMCs. The PBMCs are isolated as descibed in SOP_1 and potentially sorted as descibed in SOP_2.\n",
        "\n",
        "\n",
        "The expected RNA yield dependents on the amount of starting material and varies between ...\n",
        "\n",
        "Due to biosafety considerations (export from BSL4), the sorted/unsorted PBMCs are resuspended in Trizol LS prior to the RNA extraction. The samples are either directly processed or store at -20C till export. Afterwards the samples are processed with RNeasy Plus Mini Kit\n",
        "\n"
      ],
      "metadata": {
        "id": "FN-Ak0ghDnwG"
      }
    },
    {
      "cell_type": "markdown",
      "source": [
        "## Key resources table\n",
        "\n",
        "| Reagent or Resource | Source | Identifier | Other |\n",
        "|---|---|---|---|\n",
        "| **Chemicals** |  |  |  |\n",
        "| Trizol |  |  | Always shake before use |\n",
        "| Ethanol |  |  |  |\n",
        "| β-Mercaptoethanol |  |  |  |\n",
        "| **Experimental models: Organisms/strains** |  |  |  |\n",
        "| porcine PBMCs |  |  |  |\n",
        "| **Commercial Kits** |  |  |  |\n",
        "| RNeasy Plus Mini Kit | Qiagen | 74134 |  |\n",
        "| **Other** |  |  |  |\n",
        "| Cryogenic vial |  |  |  |\n",
        "| Isopropanol freezing container |  |  | Place at 4ºC |\n",
        "DNA LoBind Microcentrifuge Tubes 1.5mL (Thermo Scientific, Cat#13-698-791)\n",
        "\n",
        "RNase/DNase Free Water\n",
        "\n",
        "Mol. grade chloroform (Fisher Scientific, Cat#ICN19400290 or similar)\n",
        "\n",
        "\n",
        "\n",
        " Trizol lysates are stable at room temperature for short periods. After homogenization/lysis,\n",
        "gently shaking samples for 5‐10 minutes can help ensure lysis is complete.\n",
        " Trizol lysates are stable at ‐80°C for long periods – more stable than storing frozen cells or tissue.\n",
        "Tissue lysates can be frozen in bead mill tubes following homogenization. A freeze/thaw step\n",
        "may help complete lysis and improve RNA yield, and offers a safe‐stop before RNA Extraction.   \n",
        " Do not vortex Trizol lysates as it can sheer RNA. (Vortexing is a different mechanical action than\n",
        "bead mill homogenizat"
      ],
      "metadata": {
        "id": "M7OF_2hQan4i"
      }
    },
    {
      "cell_type": "markdown",
      "source": [
        "## Step-by-step method details\n",
        "\n",
        "1. **Before beginning:**\n",
        "  1. Pre-chill one microcentrifuge to 4°C and one microcentrifuge to RT\n",
        "  2. Set a heat block to 70°C and heat 2 mL RNase/DNase Free Water.\n",
        "2. **Trizol-based RNA extraction**\n",
        "  1. Thaw the sample at RT if the sample is frozen or incubate for 5 min at RT,  shake the sample if possible.  \n",
        "\n",
        "    _Note:_\n",
        "    * If the sample is in < 1 mL Trizol, bring the volume up to 1 mL by adding more Trizol.\n",
        "    * If there is a particulate matter centrifuge the sample for 10 min at 12000 x g at 4°C, transfer the supernatant to a new RNAse-free tube.\n",
        "\n",
        "  2. Add 1/5 volume chlorophorm, shake vigourously for 15 s and incubate for 3 min at RT.\n",
        "  3. Centrifuge the sample for 15 min at 14 000 x g at 4˚C. Transfer the aqueous upper layer (RNA layer) in a new RNAse-free tube. Discard the DNA layer (white layer) and the protein layer (pink layer).\n",
        "  4. Add max 700 ul sample to a Qiashredder column and centrifuge for 2 min at ... at RT. Collect the flow-through\n",
        "  5. Add max 700 ul sample to a gDNA eliminator column and centrifuge for 15 sec at RT. Collect the flow-through\n",
        "  5. Add one volume 70% ethanol to the flow throught and mix well by pipetting.  \n",
        "  6. Add max 700 ul sample to the RNeasy Mini column (pink) placed in a 2ml collection tube, close the tube gently.\n",
        "  7. Centrifuge at 14 000 x g  for 30 s at RT, discard the flow throug.\n",
        "  8. Add 500 uL RPE buffer to the RNeasy Mini column\n",
        "  9. Centrifuge at 14 000 x g for 30s.  Discard the flow through.\n",
        "\n"
      ],
      "metadata": {
        "id": "3h-0QpB9amvq"
      }
    },
    {
      "cell_type": "markdown",
      "source": [
        "## Step-by-step method details\n",
        "\n",
        "### Preparation:\n",
        "  1. Pre-chill one microcentrifuge to 4°C for sample processing\n",
        "  2. Pre-heat 2 mL RNase/DNase Free Water in a heat block set to 70°C. This pre-heated water will be used later for RNA elution.\n",
        "\n",
        "### Sample preparation:\n",
        "  1. If frozen, thaw the sample at RT, else incubate it for 5 min at RT. Gently mix by flicking the tube.\n",
        "\n",
        " _Notes:_\n",
        "  * If the sample volume is less than 1 mL Trizol, adjust the volume to 1 mL by adding more Trizol.\n",
        "  * For samples containing particulate matter, centrifuge for 10 min at 12,000 x g at 4°C and carefully transfer the supernatant to a new RNase-free tube.\n",
        "\n",
        "### Trizol/Chloroform RNA extraction:\n",
        "  1. Add 1/5 volume of chloroform to the sample (e.g., 200 µL chloroform to 1 mL Trizol sample). Vigorously shake the sample for 15 s.\n",
        "  2. Incubate the sample for 3 min at RT to allow phase separation\n",
        "  3. Centrifuge the sample at 14,000 x g for 15 min at 4°C. This step separates the mixture into three distinct layers:\n",
        "  * Upper aqueous layer (RNA-containing) - transparent\n",
        "  * Middle interphase layer (DNA-containing) - white\n",
        "  * Lower organic layer (protein-containing) - pink\n",
        "  4. Carefully transfer the upper aqueous layer to a new RNase-free tube. Avoid transferring any of the lower layers.\n",
        "\n",
        "### RNA purification by Qiagen RNeasy Plus Mini Kit\n",
        "\n",
        "The following steps describe the purification of RNA by a commercial kit.\n",
        "\n",
        "1. Add up to 700 µL of the aqueous layer to the Qiashredder column adn centrifuge at 14,000 x g for 2 min at RT. Collect the flow-through containing the purified RNA.\n",
        "2. Add up to 700 µL of the flow-through from to the gDNA Eliminator column and centrifuge at 14,000 x g for 15 s at RT. Collect the flow-through containing the purified RNA.\n",
        "3. Add 1 volume of 70% ethanol to the purified RNA sample. Mix the solution thoroughly by pipetting up and down several times.\n",
        "4. Add up to 700 µL of the ethanol/RNA mixture to an RNeasy Mini spin column placed in a 2 mL collection tube. Close the lid gently.\n",
        "Centrifuge at 14,000 x g for 30 seconds at RT. Discard the flow-through.\n",
        "5. Repeat the previous step if additional volume of the ethanol/RNA mixture is available. Discard the flow through.\n",
        "6. Add up to 700 µL RW1 buffer onto the column, centrifuge at 14,000 x g for 15 s at RT. Discard the flow through.\n",
        "7. Add 500 μL RPE buffer onto the RNeasy Mini column, centrifuge at 14 000 x g for 30 s at RT. Discard the flow through.\n",
        "7. Add 500 μL RPE buffer onto the RNeasy Mini column, centrifuge at 14 000 x g for 2 min at RT. Discard the flow through.\n",
        "8. Transfer the column in to a new 2 ml collection tube and centrifuge 4 000 x g for 2 min to dry the membrane. Discard flow-through.\n",
        "9. Transfer RNeasy mini column to a new 1.5mL collection tube.\n",
        "10. Add 30 - 50 μL RNase-free water directly onto the membrane. Incubate at RT for 10 min. Close tube gently, and centrifuge at 8,000 x g for 1 min.\n"
      ],
      "metadata": {
        "id": "gjPkTSCnxDg_"
      }
    }
  ]
}