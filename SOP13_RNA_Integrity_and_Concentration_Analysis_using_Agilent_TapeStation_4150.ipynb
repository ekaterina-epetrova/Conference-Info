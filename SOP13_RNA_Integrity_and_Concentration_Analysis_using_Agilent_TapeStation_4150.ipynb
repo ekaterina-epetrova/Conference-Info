{
  "nbformat": 4,
  "nbformat_minor": 0,
  "metadata": {
    "colab": {
      "provenance": [],
      "authorship_tag": "ABX9TyNp9rikzoyNozkAUiw2rmDF",
      "include_colab_link": true
    },
    "kernelspec": {
      "name": "python3",
      "display_name": "Python 3"
    },
    "language_info": {
      "name": "python"
    }
  },
  "cells": [
    {
      "cell_type": "markdown",
      "metadata": {
        "id": "view-in-github",
        "colab_type": "text"
      },
      "source": [
        "<a href=\"https://colab.research.google.com/github/ekaterina-epetrova/Conference-Info/blob/master/SOP13_RNA_Integrity_and_Concentration_Analysis_using_Agilent_TapeStation_4150.ipynb\" target=\"_parent\"><img src=\"https://colab.research.google.com/assets/colab-badge.svg\" alt=\"Open In Colab\"/></a>"
      ]
    },
    {
      "cell_type": "markdown",
      "source": [
        "## Summary:\n",
        "\n",
        "This SOP provides a detailed workflow for performing RNA analysis using the Agilent TapeStation 4150.\n",
        "\n",
        "A protocol to access the RNA integrity (RNA integrity score RINe) and concentration using the Fragment Analyzer (Agilent TapeStation 4150).\n",
        "\n",
        "The protocol is adapted from: [1](https://www.agilent.com/cs/library/usermanuals/public/RNA_QuickGuide.pdf)\n",
        "\n",
        "## Key Resources Table:\n",
        "\n",
        "| **Components** | **Source** | **Identifier** | **Additional Information** |\n",
        "|----------------|------------|----------------|----------------------------|\n",
        "| **Chemicals and Kits** | | | |\n",
        "| RNA ScreenTape | Agilent | 5067-5576 | Store partially used at 4 °C for up to 2 weeks|\n",
        "| RNA ScreenTape Sample Buffer | Agilent | 5067-5577 |                      |\n",
        "| RNA Ladder     | Agilent    | 5067-5578      |                            |\n",
        "| **Samples** | | | |\n",
        "| RNA template | | | Quantitative range 25 - 500 ng/µL                      |\n",
        "| **Other** | | | |\n",
        "|Loading tips  | Agilent    | 5067-5598        |                            |\n",
        "|Optical Tube 8x Strip | Agilent | 401428      |                            |\n",
        "\n",
        "## Step-by-step Method Details:\n",
        "\n",
        "**1. Before beginning:**\n",
        "\n",
        "* Place the RNA ScreenTape Sample Buffer at RT for 30 min to equilibrate.\n",
        "* Thaw RNA Ladder and total RNA samples on ice.\n",
        "  * If the RNA sample concentration exceeds the quantitative range (25–500 ng/µL), dilute it in RNAse-free H₂O or TE Buffer.\n",
        "\n",
        "**2. Sample Preparation:**\n",
        "\n",
        "* Gently mix and briefly spin down all components before use.\n",
        "* Pipette 5 µL RNA ScreenTape Sample Buffer into well A1 of an tube strip and add 1 µL RNA Ladder.\n",
        "* For each RNA sample, pipette 5 µL RNA ScreenTape Sample Buffer into the assigned wells and add 1 µL RNA sample.\n",
        "* Mix the samples using the IKA MS3 vortexer at 2000 rpm for 1 minute.\n",
        "* Spin down the samples for 1 minute.\n",
        "* Incubate the samples at 72°C for 3 minutes to ensure RNA denaturation.\n",
        "* After incubation, place the samples on ice for 2 minutes.\n",
        "* Spin down the samples for 1 minute.\n",
        "\n",
        "**3. TapeStation Setup:**\n",
        "* Open the Agilent TapeStation Controller software.\n",
        "* Flick the RNA ScreenTape device gently to ensure the gel is evenly distributed. Insert the ScreenTape device into the TapeStation instrument's nest.\n",
        "* In the TapeStation Controller software, assign sample positions based on the tube strip layout.\n",
        "* Load the loading tips into the TapeStation instrument.\n",
        "* Load the tube strip tubes into the TapeStation instrument. Remove the caps from the tube strips and visually confirm that the liquid is settled at the bottom of each tube before starting the run.\n",
        "* Click Start in the TapeStation Controller software to begin the RNA analysis.\n"
      ],
      "metadata": {
        "id": "FN-Ak0ghDnwG"
      }
    }
  ]
}