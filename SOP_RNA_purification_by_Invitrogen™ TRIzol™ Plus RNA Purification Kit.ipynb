{
  "nbformat": 4,
  "nbformat_minor": 0,
  "metadata": {
    "colab": {
      "provenance": [],
      "toc_visible": true,
      "authorship_tag": "ABX9TyMpBudQbPt/Q5JPEgigK7nF",
      "include_colab_link": true
    },
    "kernelspec": {
      "name": "python3",
      "display_name": "Python 3"
    },
    "language_info": {
      "name": "python"
    }
  },
  "cells": [
    {
      "cell_type": "markdown",
      "metadata": {
        "id": "view-in-github",
        "colab_type": "text"
      },
      "source": [
        "<a href=\"https://colab.research.google.com/github/ekaterina-epetrova/Conference-Info/blob/master/SOP_RNA_purification_by_Invitrogen%E2%84%A2%20TRIzol%E2%84%A2%20Plus%20RNA%20Purification%20Kit.ipynb\" target=\"_parent\"><img src=\"https://colab.research.google.com/assets/colab-badge.svg\" alt=\"Open In Colab\"/></a>"
      ]
    },
    {
      "cell_type": "markdown",
      "source": [
        "## **Summary**\n",
        "\n",
        "This protocol outlines the steps required to extract total RNA from sorted or non-sorted porcine Peripheral Blood Mononuclear Cells (PBMCs). The PBMCs are isolated following SOP_1 and potentially sorted as described in SOP_2. If frozen, thaw the PBMCs as described in SOP_3. The RNA yield depends on the amount of starting material and varies based on cell concentration and sample quality.\n",
        "\n",
        "Due to biosafety considerations (export from BSL4), PBMCs are resuspended in TRIzol™ Reagent before RNA extraction. Samples can be processed immediately or stored at -20°C until export. Subsequent processing uses the TRIzol™ Plus RNA Purification Kit.\n",
        "\n",
        "## **Key Resources Table**\n",
        "\n",
        "| **Reagent or Resource**                     | **Source**                     | **Identifier**            | **Other Information**                |\n",
        "|---------------------------------------------|--------------------------------|---------------------------|---------------------------------------|\n",
        "| **Chemicals and Kits**                               |                                |                           |                                       |\n",
        "| TRIzol™ Plus RNA Purification Kit | Fisher Scientific | 12094346 | Trizol Reagent should be shaked before use |\n",
        "| Chloroform | Sigma-Aldrich | C2432 | |\n",
        "| Ethanol | Sigma-Aldrich | E7023 | |\n",
        "| Nuclease-free water | Sigma-Aldrich | E7023 | |                   |\n",
        "| **Experimental Models: Organisms Strains** | | | |\n",
        "| Porcine PBMCs | N/A | N/A | Isolated as described in SOP_1, SOP_2, SOP_3 |\n",
        " **Other** | | | |\n",
        "| RNase-free Eppendorf Tubes | Thermo Fisher Scientific | 0030-10-03 | |\n",
        "\n",
        "\n",
        "## Step-by-Step Method Details\n",
        "\n",
        "### **Before beginning**:\n",
        "1. Pre-set centrifuges to the appropriate temperatures (4°C and RT).\n",
        "2. Prepare 70% ethanol\n",
        "\n",
        "### **Sample Preparation**:\n",
        "1. Following SOP3, centrifuge the PBMCs at 300 × g for 5 minutes at RT.\n",
        "2. Resuspend the cell pellet in ice-cold PBS at a concentration of 7.5 × 10^6 cells/mL. Gently pipette to avoid mechanical stress.\n",
        "3. Transfer 1 mL of the cell suspension to RNase-free Eppendorf tubes.\n",
        "4. Centrifuge the cells at 300 × g for 5 minutes at 4°C.\n",
        "5. Resuspend the cell pellet in 1 mL of TRIzol™ Reagent. Pipette gently to avoid RNA shearing.\n",
        "6. Incubate samples at RT for 5 minutes to ensure complete lysis and RNA release.\n",
        "7. If the sample contains particulate matter, centrifuge at 12,000 × g for 5 minutes at 4°C and transfer the clear supernatant to a new RNase-free Eppendorf tube.\n",
        "8. Store the sample at -20°C if needed. Avoid repeated freeze-thaw cycles.\n",
        "\n",
        "### **TRIzol™/Chloroform RNA Extraction**\n",
        "1. Add 0.2 mL of chloroform per 1 mL of TRIzol™ Reagent used for lysis. Securely cap the tube.\n",
        "2. Shake vigorously for 15 seconds, then incubate for 3 minutes at RT.\n",
        "3. Centrifuge at 12,000 × g for 15 minutes at 4°C to separate the mixture into three layers:\n",
        "   - **Upper aqueous phase** (contains RNA) – clear\n",
        "   - **Middle interphase** (contains DNA) – white\n",
        "   - **Lower organic phase** (contains proteins) – pink\n",
        "4. Carefully transfer ~600 µL of the upper aqueous phase to a new RNase-free tube.\n",
        "\n",
        "### **RNA Purification Using TRIzol™ Plus RNA Purification Kit**\n",
        "1. Add an equal volume of 70% ethanol to the aqueous phase and mix well by vortexing. Transfer up to 700 µL of the mixture to a spin cartridge.\n",
        "2. Centrifuge at 12,000 × g for 15 seconds. Discard the flow-through. Repeat if necessary until the entire sample is processed.\n",
        "3. Wash RNA:\n",
        "   - Add 700 µL of Wash Buffer I to the spin cartridge and centrifuge at 12,000 × g for 15 seconds. Discard the flow-through and the collextion tube.\n",
        "   - Add 500 µL of Wash Buffer II, centrifuge at 12,000 × g for 15 seconds, and discard the flow-through. Repeat this wash step once more.\n",
        "4. Centrifuge the cartridge at 12,000 × g for 2 minute to dry the membrane. Discard the collection tube.\n",
        "5. Elute RNA:\n",
        "   - Transfer the spin cartridge to a new recovery tube.\n",
        "   - Add 30 µL RNase-free water directly onto the membrane. Incubate for 1 minute at RT.\n",
        "   - Centrifuge at 12,000 × g for 2 minutes to elute the RNA.\n",
        "6. Discard the spin cartridge and store the eluted RNA at -80°C for long-term storage or on ice for immediate use.\n"
      ],
      "metadata": {
        "id": "FN-Ak0ghDnwG"
      }
    },
    {
      "cell_type": "markdown",
      "source": [
        "**Compare RNA yield**"
      ],
      "metadata": {
        "id": "RAsIScOS5rUN"
      }
    },
    {
      "cell_type": "code",
      "source": [
        "import pandas as pd\n",
        "import matplotlib.pyplot as plt\n",
        "import seaborn as sns\n",
        "\n",
        "# Data input\n",
        "data = {\n",
        "    'RNA_extraction_type': ['Qiagen', 'Trizol_Qiagen', 'PureLink', 'Trizol', 'Qiagen', 'Trizol_Qiagen',\n",
        "                            'PureLink', 'Trizol', 'PureLink', 'PureLink', 'PureLink', 'PureLink',\n",
        "                            'PureLink', 'PureLink'],\n",
        "    'RNA_ng_ul': [103.42, 80.18, 195.99, 216.38, 102.32, 76.74, 225.56, 64.14, 240.17, 162.19,\n",
        "                  144.57, 182.96, 172.17, 170.74],\n",
        "    '260/280': [1.98, 1.89, 1.96, 1.83, 2.18, 1.94, 2.06, 1.64, 2.02, 2.02, 2.07, 2.06, 2.06, 2.07],\n",
        "    '260/230': [0.64, 1.85, 1.91, 1.29, 0.21, 0.20, 2.11, 0.49, 1.85, 1.71, 2.04, 2.15, 1.37, 1.98]\n",
        "}\n",
        "\n",
        "# Create DataFrame\n",
        "df = pd.DataFrame(data)\n",
        "\n",
        "# Calculate statistics\n",
        "stats = df.groupby('RNA_extraction_type').agg(['mean', 'std']).reset_index()\n",
        "\n",
        "# Flatten MultiIndex columns\n",
        "stats.columns = ['Extraction Method', 'RNA_ng_ul_mean', 'RNA_ng_ul_std',\n",
        "                 '260/280_mean', '260/280_std', '260/230_mean', '260/230_std']\n",
        "\n",
        "print(stats)\n",
        "\n",
        "# Set the style\n",
        "sns.set(style=\"whitegrid\")\n",
        "\n",
        "# Define parameters for plotting\n",
        "parameters = ['RNA_ng_ul', '260/280', '260/230']\n",
        "titles = ['RNA Concentration (ng/µL)', '260/280 Ratio', '260/230 Ratio']\n",
        "\n",
        "# Create subplots\n",
        "fig, axes = plt.subplots(1, 3, figsize=(18, 6))\n",
        "\n",
        "for i, param in enumerate(parameters):\n",
        "    sns.barplot(\n",
        "        x='Extraction Method',\n",
        "        y=f'{param}_mean',\n",
        "        yerr=stats[f'{param}_std'],\n",
        "        data=stats,\n",
        "        ax=axes[i],\n",
        "        palette='pastel',\n",
        "        capsize=0.1\n",
        "    )\n",
        "    axes[i].set_title(titles[i])\n",
        "    axes[i].set_ylabel(titles[i])\n",
        "    axes[i].set_xlabel('Extraction Method')\n",
        "    axes[i].tick_params(axis='x', rotation=45)\n",
        "\n",
        "plt.tight_layout()\n",
        "plt.show()\n"
      ],
      "metadata": {
        "id": "skQcpBFk5eQ9",
        "outputId": "26e64609-a7ec-4b15-b361-8620e9df5f36",
        "colab": {
          "base_uri": "https://localhost:8080/",
          "height": 1000
        }
      },
      "execution_count": 1,
      "outputs": [
        {
          "output_type": "stream",
          "name": "stdout",
          "text": [
            "  Extraction Method  RNA_ng_ul_mean  RNA_ng_ul_std  260/280_mean  260/280_std  \\\n",
            "0          PureLink       186.79375      32.317358         2.040     0.038173   \n",
            "1            Qiagen       102.87000       0.777817         2.080     0.141421   \n",
            "2            Trizol       140.26000     107.649936         1.735     0.134350   \n",
            "3     Trizol_Qiagen        78.46000       2.432447         1.915     0.035355   \n",
            "\n",
            "   260/230_mean  260/230_std  \n",
            "0         1.890     0.253940  \n",
            "1         0.425     0.304056  \n",
            "2         0.890     0.565685  \n",
            "3         1.025     1.166726  \n"
          ]
        },
        {
          "output_type": "stream",
          "name": "stderr",
          "text": [
            "<ipython-input-1-25c271b78ded>:39: FutureWarning: \n",
            "\n",
            "Passing `palette` without assigning `hue` is deprecated and will be removed in v0.14.0. Assign the `x` variable to `hue` and set `legend=False` for the same effect.\n",
            "\n",
            "  sns.barplot(\n"
          ]
        },
        {
          "output_type": "error",
          "ename": "ValueError",
          "evalue": "'yerr' (shape: (4,)) must be a scalar or a 1D or (2, n) array-like whose shape matches 'y' (shape: (1,))",
          "traceback": [
            "\u001b[0;31m---------------------------------------------------------------------------\u001b[0m",
            "\u001b[0;31mValueError\u001b[0m                                Traceback (most recent call last)",
            "\u001b[0;32m<ipython-input-1-25c271b78ded>\u001b[0m in \u001b[0;36m<cell line: 38>\u001b[0;34m()\u001b[0m\n\u001b[1;32m     37\u001b[0m \u001b[0;34m\u001b[0m\u001b[0m\n\u001b[1;32m     38\u001b[0m \u001b[0;32mfor\u001b[0m \u001b[0mi\u001b[0m\u001b[0;34m,\u001b[0m \u001b[0mparam\u001b[0m \u001b[0;32min\u001b[0m \u001b[0menumerate\u001b[0m\u001b[0;34m(\u001b[0m\u001b[0mparameters\u001b[0m\u001b[0;34m)\u001b[0m\u001b[0;34m:\u001b[0m\u001b[0;34m\u001b[0m\u001b[0;34m\u001b[0m\u001b[0m\n\u001b[0;32m---> 39\u001b[0;31m     sns.barplot(\n\u001b[0m\u001b[1;32m     40\u001b[0m         \u001b[0mx\u001b[0m\u001b[0;34m=\u001b[0m\u001b[0;34m'Extraction Method'\u001b[0m\u001b[0;34m,\u001b[0m\u001b[0;34m\u001b[0m\u001b[0;34m\u001b[0m\u001b[0m\n\u001b[1;32m     41\u001b[0m         \u001b[0my\u001b[0m\u001b[0;34m=\u001b[0m\u001b[0;34mf'{param}_mean'\u001b[0m\u001b[0;34m,\u001b[0m\u001b[0;34m\u001b[0m\u001b[0;34m\u001b[0m\u001b[0m\n",
            "\u001b[0;32m/usr/local/lib/python3.10/dist-packages/seaborn/categorical.py\u001b[0m in \u001b[0;36mbarplot\u001b[0;34m(data, x, y, hue, order, hue_order, estimator, errorbar, n_boot, seed, units, weights, orient, color, palette, saturation, fill, hue_norm, width, dodge, gap, log_scale, native_scale, formatter, legend, capsize, err_kws, ci, errcolor, errwidth, ax, **kwargs)\u001b[0m\n\u001b[1;32m   2368\u001b[0m     \u001b[0msaturation\u001b[0m \u001b[0;34m=\u001b[0m \u001b[0msaturation\u001b[0m \u001b[0;32mif\u001b[0m \u001b[0mfill\u001b[0m \u001b[0;32melse\u001b[0m \u001b[0;36m1\u001b[0m\u001b[0;34m\u001b[0m\u001b[0;34m\u001b[0m\u001b[0m\n\u001b[1;32m   2369\u001b[0m     \u001b[0mp\u001b[0m\u001b[0;34m.\u001b[0m\u001b[0mmap_hue\u001b[0m\u001b[0;34m(\u001b[0m\u001b[0mpalette\u001b[0m\u001b[0;34m=\u001b[0m\u001b[0mpalette\u001b[0m\u001b[0;34m,\u001b[0m \u001b[0morder\u001b[0m\u001b[0;34m=\u001b[0m\u001b[0mhue_order\u001b[0m\u001b[0;34m,\u001b[0m \u001b[0mnorm\u001b[0m\u001b[0;34m=\u001b[0m\u001b[0mhue_norm\u001b[0m\u001b[0;34m,\u001b[0m \u001b[0msaturation\u001b[0m\u001b[0;34m=\u001b[0m\u001b[0msaturation\u001b[0m\u001b[0;34m)\u001b[0m\u001b[0;34m\u001b[0m\u001b[0;34m\u001b[0m\u001b[0m\n\u001b[0;32m-> 2370\u001b[0;31m     \u001b[0mcolor\u001b[0m \u001b[0;34m=\u001b[0m \u001b[0m_default_color\u001b[0m\u001b[0;34m(\u001b[0m\u001b[0max\u001b[0m\u001b[0;34m.\u001b[0m\u001b[0mbar\u001b[0m\u001b[0;34m,\u001b[0m \u001b[0mhue\u001b[0m\u001b[0;34m,\u001b[0m \u001b[0mcolor\u001b[0m\u001b[0;34m,\u001b[0m \u001b[0mkwargs\u001b[0m\u001b[0;34m,\u001b[0m \u001b[0msaturation\u001b[0m\u001b[0;34m=\u001b[0m\u001b[0msaturation\u001b[0m\u001b[0;34m)\u001b[0m\u001b[0;34m\u001b[0m\u001b[0;34m\u001b[0m\u001b[0m\n\u001b[0m\u001b[1;32m   2371\u001b[0m \u001b[0;34m\u001b[0m\u001b[0m\n\u001b[1;32m   2372\u001b[0m     \u001b[0magg_cls\u001b[0m \u001b[0;34m=\u001b[0m \u001b[0mWeightedAggregator\u001b[0m \u001b[0;32mif\u001b[0m \u001b[0;34m\"weight\"\u001b[0m \u001b[0;32min\u001b[0m \u001b[0mp\u001b[0m\u001b[0;34m.\u001b[0m\u001b[0mplot_data\u001b[0m \u001b[0;32melse\u001b[0m \u001b[0mEstimateAggregator\u001b[0m\u001b[0;34m\u001b[0m\u001b[0;34m\u001b[0m\u001b[0m\n",
            "\u001b[0;32m/usr/local/lib/python3.10/dist-packages/seaborn/utils.py\u001b[0m in \u001b[0;36m_default_color\u001b[0;34m(method, hue, color, kws, saturation)\u001b[0m\n\u001b[1;32m    125\u001b[0m \u001b[0;34m\u001b[0m\u001b[0m\n\u001b[1;32m    126\u001b[0m         \u001b[0;31m# bar() needs masked, not empty data, to generate a patch\u001b[0m\u001b[0;34m\u001b[0m\u001b[0;34m\u001b[0m\u001b[0m\n\u001b[0;32m--> 127\u001b[0;31m         \u001b[0mscout\u001b[0m\u001b[0;34m,\u001b[0m \u001b[0;34m=\u001b[0m \u001b[0mmethod\u001b[0m\u001b[0;34m(\u001b[0m\u001b[0;34m[\u001b[0m\u001b[0mnp\u001b[0m\u001b[0;34m.\u001b[0m\u001b[0mnan\u001b[0m\u001b[0;34m]\u001b[0m\u001b[0;34m,\u001b[0m \u001b[0;34m[\u001b[0m\u001b[0mnp\u001b[0m\u001b[0;34m.\u001b[0m\u001b[0mnan\u001b[0m\u001b[0;34m]\u001b[0m\u001b[0;34m,\u001b[0m \u001b[0;34m**\u001b[0m\u001b[0mkws\u001b[0m\u001b[0;34m)\u001b[0m\u001b[0;34m\u001b[0m\u001b[0;34m\u001b[0m\u001b[0m\n\u001b[0m\u001b[1;32m    128\u001b[0m         \u001b[0mcolor\u001b[0m \u001b[0;34m=\u001b[0m \u001b[0mto_rgb\u001b[0m\u001b[0;34m(\u001b[0m\u001b[0mscout\u001b[0m\u001b[0;34m.\u001b[0m\u001b[0mget_facecolor\u001b[0m\u001b[0;34m(\u001b[0m\u001b[0;34m)\u001b[0m\u001b[0;34m)\u001b[0m\u001b[0;34m\u001b[0m\u001b[0;34m\u001b[0m\u001b[0m\n\u001b[1;32m    129\u001b[0m         \u001b[0mscout\u001b[0m\u001b[0;34m.\u001b[0m\u001b[0mremove\u001b[0m\u001b[0;34m(\u001b[0m\u001b[0;34m)\u001b[0m\u001b[0;34m\u001b[0m\u001b[0;34m\u001b[0m\u001b[0m\n",
            "\u001b[0;32m/usr/local/lib/python3.10/dist-packages/matplotlib/__init__.py\u001b[0m in \u001b[0;36minner\u001b[0;34m(ax, data, *args, **kwargs)\u001b[0m\n\u001b[1;32m   1440\u001b[0m     \u001b[0;32mdef\u001b[0m \u001b[0minner\u001b[0m\u001b[0;34m(\u001b[0m\u001b[0max\u001b[0m\u001b[0;34m,\u001b[0m \u001b[0;34m*\u001b[0m\u001b[0margs\u001b[0m\u001b[0;34m,\u001b[0m \u001b[0mdata\u001b[0m\u001b[0;34m=\u001b[0m\u001b[0;32mNone\u001b[0m\u001b[0;34m,\u001b[0m \u001b[0;34m**\u001b[0m\u001b[0mkwargs\u001b[0m\u001b[0;34m)\u001b[0m\u001b[0;34m:\u001b[0m\u001b[0;34m\u001b[0m\u001b[0;34m\u001b[0m\u001b[0m\n\u001b[1;32m   1441\u001b[0m         \u001b[0;32mif\u001b[0m \u001b[0mdata\u001b[0m \u001b[0;32mis\u001b[0m \u001b[0;32mNone\u001b[0m\u001b[0;34m:\u001b[0m\u001b[0;34m\u001b[0m\u001b[0;34m\u001b[0m\u001b[0m\n\u001b[0;32m-> 1442\u001b[0;31m             \u001b[0;32mreturn\u001b[0m \u001b[0mfunc\u001b[0m\u001b[0;34m(\u001b[0m\u001b[0max\u001b[0m\u001b[0;34m,\u001b[0m \u001b[0;34m*\u001b[0m\u001b[0mmap\u001b[0m\u001b[0;34m(\u001b[0m\u001b[0msanitize_sequence\u001b[0m\u001b[0;34m,\u001b[0m \u001b[0margs\u001b[0m\u001b[0;34m)\u001b[0m\u001b[0;34m,\u001b[0m \u001b[0;34m**\u001b[0m\u001b[0mkwargs\u001b[0m\u001b[0;34m)\u001b[0m\u001b[0;34m\u001b[0m\u001b[0;34m\u001b[0m\u001b[0m\n\u001b[0m\u001b[1;32m   1443\u001b[0m \u001b[0;34m\u001b[0m\u001b[0m\n\u001b[1;32m   1444\u001b[0m         \u001b[0mbound\u001b[0m \u001b[0;34m=\u001b[0m \u001b[0mnew_sig\u001b[0m\u001b[0;34m.\u001b[0m\u001b[0mbind\u001b[0m\u001b[0;34m(\u001b[0m\u001b[0max\u001b[0m\u001b[0;34m,\u001b[0m \u001b[0;34m*\u001b[0m\u001b[0margs\u001b[0m\u001b[0;34m,\u001b[0m \u001b[0;34m**\u001b[0m\u001b[0mkwargs\u001b[0m\u001b[0;34m)\u001b[0m\u001b[0;34m\u001b[0m\u001b[0;34m\u001b[0m\u001b[0m\n",
            "\u001b[0;32m/usr/local/lib/python3.10/dist-packages/matplotlib/axes/_axes.py\u001b[0m in \u001b[0;36mbar\u001b[0;34m(self, x, height, width, bottom, align, **kwargs)\u001b[0m\n\u001b[1;32m   2508\u001b[0m             \u001b[0merror_kw\u001b[0m\u001b[0;34m.\u001b[0m\u001b[0msetdefault\u001b[0m\u001b[0;34m(\u001b[0m\u001b[0;34m\"label\"\u001b[0m\u001b[0;34m,\u001b[0m \u001b[0;34m'_nolegend_'\u001b[0m\u001b[0;34m)\u001b[0m\u001b[0;34m\u001b[0m\u001b[0;34m\u001b[0m\u001b[0m\n\u001b[1;32m   2509\u001b[0m \u001b[0;34m\u001b[0m\u001b[0m\n\u001b[0;32m-> 2510\u001b[0;31m             errorbar = self.errorbar(ex, ey,\n\u001b[0m\u001b[1;32m   2511\u001b[0m                                      \u001b[0myerr\u001b[0m\u001b[0;34m=\u001b[0m\u001b[0myerr\u001b[0m\u001b[0;34m,\u001b[0m \u001b[0mxerr\u001b[0m\u001b[0;34m=\u001b[0m\u001b[0mxerr\u001b[0m\u001b[0;34m,\u001b[0m\u001b[0;34m\u001b[0m\u001b[0;34m\u001b[0m\u001b[0m\n\u001b[1;32m   2512\u001b[0m                                      fmt='none', **error_kw)\n",
            "\u001b[0;32m/usr/local/lib/python3.10/dist-packages/matplotlib/__init__.py\u001b[0m in \u001b[0;36minner\u001b[0;34m(ax, data, *args, **kwargs)\u001b[0m\n\u001b[1;32m   1440\u001b[0m     \u001b[0;32mdef\u001b[0m \u001b[0minner\u001b[0m\u001b[0;34m(\u001b[0m\u001b[0max\u001b[0m\u001b[0;34m,\u001b[0m \u001b[0;34m*\u001b[0m\u001b[0margs\u001b[0m\u001b[0;34m,\u001b[0m \u001b[0mdata\u001b[0m\u001b[0;34m=\u001b[0m\u001b[0;32mNone\u001b[0m\u001b[0;34m,\u001b[0m \u001b[0;34m**\u001b[0m\u001b[0mkwargs\u001b[0m\u001b[0;34m)\u001b[0m\u001b[0;34m:\u001b[0m\u001b[0;34m\u001b[0m\u001b[0;34m\u001b[0m\u001b[0m\n\u001b[1;32m   1441\u001b[0m         \u001b[0;32mif\u001b[0m \u001b[0mdata\u001b[0m \u001b[0;32mis\u001b[0m \u001b[0;32mNone\u001b[0m\u001b[0;34m:\u001b[0m\u001b[0;34m\u001b[0m\u001b[0;34m\u001b[0m\u001b[0m\n\u001b[0;32m-> 1442\u001b[0;31m             \u001b[0;32mreturn\u001b[0m \u001b[0mfunc\u001b[0m\u001b[0;34m(\u001b[0m\u001b[0max\u001b[0m\u001b[0;34m,\u001b[0m \u001b[0;34m*\u001b[0m\u001b[0mmap\u001b[0m\u001b[0;34m(\u001b[0m\u001b[0msanitize_sequence\u001b[0m\u001b[0;34m,\u001b[0m \u001b[0margs\u001b[0m\u001b[0;34m)\u001b[0m\u001b[0;34m,\u001b[0m \u001b[0;34m**\u001b[0m\u001b[0mkwargs\u001b[0m\u001b[0;34m)\u001b[0m\u001b[0;34m\u001b[0m\u001b[0;34m\u001b[0m\u001b[0m\n\u001b[0m\u001b[1;32m   1443\u001b[0m \u001b[0;34m\u001b[0m\u001b[0m\n\u001b[1;32m   1444\u001b[0m         \u001b[0mbound\u001b[0m \u001b[0;34m=\u001b[0m \u001b[0mnew_sig\u001b[0m\u001b[0;34m.\u001b[0m\u001b[0mbind\u001b[0m\u001b[0;34m(\u001b[0m\u001b[0max\u001b[0m\u001b[0;34m,\u001b[0m \u001b[0;34m*\u001b[0m\u001b[0margs\u001b[0m\u001b[0;34m,\u001b[0m \u001b[0;34m**\u001b[0m\u001b[0mkwargs\u001b[0m\u001b[0;34m)\u001b[0m\u001b[0;34m\u001b[0m\u001b[0;34m\u001b[0m\u001b[0m\n",
            "\u001b[0;32m/usr/local/lib/python3.10/dist-packages/matplotlib/axes/_axes.py\u001b[0m in \u001b[0;36merrorbar\u001b[0;34m(self, x, y, yerr, xerr, fmt, ecolor, elinewidth, capsize, barsabove, lolims, uplims, xlolims, xuplims, errorevery, capthick, **kwargs)\u001b[0m\n\u001b[1;32m   3633\u001b[0m                 \u001b[0mnp\u001b[0m\u001b[0;34m.\u001b[0m\u001b[0mbroadcast_to\u001b[0m\u001b[0;34m(\u001b[0m\u001b[0merr\u001b[0m\u001b[0;34m,\u001b[0m \u001b[0;34m(\u001b[0m\u001b[0;36m2\u001b[0m\u001b[0;34m,\u001b[0m \u001b[0mlen\u001b[0m\u001b[0;34m(\u001b[0m\u001b[0mdep\u001b[0m\u001b[0;34m)\u001b[0m\u001b[0;34m)\u001b[0m\u001b[0;34m)\u001b[0m\u001b[0;34m\u001b[0m\u001b[0;34m\u001b[0m\u001b[0m\n\u001b[1;32m   3634\u001b[0m             \u001b[0;32mexcept\u001b[0m \u001b[0mValueError\u001b[0m\u001b[0;34m:\u001b[0m\u001b[0;34m\u001b[0m\u001b[0;34m\u001b[0m\u001b[0m\n\u001b[0;32m-> 3635\u001b[0;31m                 raise ValueError(\n\u001b[0m\u001b[1;32m   3636\u001b[0m                     \u001b[0;34mf\"'{dep_axis}err' (shape: {np.shape(err)}) must be a \"\u001b[0m\u001b[0;34m\u001b[0m\u001b[0;34m\u001b[0m\u001b[0m\n\u001b[1;32m   3637\u001b[0m                     \u001b[0;34mf\"scalar or a 1D or (2, n) array-like whose shape matches \"\u001b[0m\u001b[0;34m\u001b[0m\u001b[0;34m\u001b[0m\u001b[0m\n",
            "\u001b[0;31mValueError\u001b[0m: 'yerr' (shape: (4,)) must be a scalar or a 1D or (2, n) array-like whose shape matches 'y' (shape: (1,))"
          ]
        },
        {
          "output_type": "display_data",
          "data": {
            "text/plain": [
              "<Figure size 1800x600 with 3 Axes>"
            ],
            "image/png": "[encoded data removed]"
          },
          "metadata": {}
        }
      ]
    },
    {
      "cell_type": "code",
      "source": [],
      "metadata": {
        "id": "RML1FRyN5ymm"
      },
      "execution_count": null,
      "outputs": []
    }
  ]
}