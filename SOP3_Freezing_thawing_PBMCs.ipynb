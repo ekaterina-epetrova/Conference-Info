{
  "nbformat": 4,
  "nbformat_minor": 0,
  "metadata": {
    "colab": {
      "provenance": [],
      "toc_visible": true,
      "authorship_tag": "ABX9TyO2dwst/Nni0DGdB/bFn3xu",
      "include_colab_link": true
    },
    "kernelspec": {
      "name": "python3",
      "display_name": "Python 3"
    },
    "language_info": {
      "name": "python"
    }
  },
  "cells": [
    {
      "cell_type": "markdown",
      "metadata": {
        "id": "view-in-github",
        "colab_type": "text"
      },
      "source": [
        "<a href=\"https://colab.research.google.com/github/ekaterina-epetrova/Conference-Info/blob/master/SOP3_Freezing_thawing_PBMCs.ipynb\" target=\"_parent\"><img src=\"https://colab.research.google.com/assets/colab-badge.svg\" alt=\"Open In Colab\"/></a>"
      ]
    },
    {
      "cell_type": "code",
      "source": [
        "def freezing_medium(fv, fb, dm):\n",
        "  \"\"\"Calculates volumes for RPMI_1640, FBS, and DMSO.\n",
        "\n",
        "  Args:\n",
        "    fv: Final volume.\n",
        "    fb: FBS percentage.\n",
        "    dm: DMSO percentage.\n",
        "\n",
        "  Returns:\n",
        "    A dictionary with volumes for RPMI, FBS, and DMSO.\n",
        "  \"\"\"\n",
        "\n",
        "  return {'RPMI_1640': fv - fv*fb/100 - fv*dm/100, 'FBS': fv*fb/100, 'DMSO': fv*dm/100}"
      ],
      "metadata": {
        "id": "y-Owj2HazCOO"
      },
      "execution_count": 3,
      "outputs": []
    },
    {
      "cell_type": "markdown",
      "source": [
        "## Summary\n",
        "\n",
        "This protocol describes the freezing and thawing of PBMCs. The PBMCs are isolated according to ...\n",
        "\n",
        "The protocol is adapted from [ref](https://www.sciencedirect.com/science/article/pii/S0006497120474919#fig1)"
      ],
      "metadata": {
        "id": "FN-Ak0ghDnwG"
      }
    },
    {
      "cell_type": "markdown",
      "source": [
        "## Key resources table\n",
        "\n",
        "| Reagent or Resource | Source | Identifier | Other |\n",
        "|---|---|---|---|\n",
        "| **Chemicals** |  |  |  |\n",
        "| RPMI 1640 |  |  | Always shake before use |\n",
        "| FBS |  |  |  |\n",
        "| DMSO |  |  |  |\n",
        "| **Experimental models: Organisms/strains** |  |  |  |\n",
        "| porcine PBMCs |  |  |  |\n",
        "| **Other** |  |  |  |\n",
        "| Cryovials |  |  |  |\n",
        "| Isopropanol freezing container |  |  | Place at 4ºC |"
      ],
      "metadata": {
        "id": "M7OF_2hQan4i"
      }
    },
    {
      "cell_type": "markdown",
      "source": [
        "## Step-by-Step Method\n",
        "\n",
        "### Freezing PBMCs:\n",
        "\n",
        "1. **Before beginning:**\n",
        "  1. Thaw DMSO at RT\n",
        "  2. Prepare freezing medium:\n",
        "   * Calculate volumes using the the function: `freezing_medium(final_volume, fbs_percent, dmso_percent)`\n",
        "   * Mix RPMI 1640, FBS, and DMSO according to calculated volumes.\n",
        "  3. Place the isopropanol freezing container at 4°C.\n",
        "   \n",
        "2. **Prepare PBMC suspension:**\n",
        "   * Resuspend PBMCs in freezing medium at a desired concentration (e.g., 10-50 x 10^7 cells/mL).\n",
        "\n",
        "3. **Aliquot and store the PBMCs:**\n",
        "   * Distribute 1 mL PBMC suspension into cryogenic vial.\n",
        "   * Place the vials in a isopropanol freezing container.\n",
        "   * Store at -80°C for at least 24 h, then transfer to -180°C for long-term storage.\n",
        "\n",
        "### Thawing PBMCs (Version 1)\n",
        "\n",
        "1. **Before beginning**\n",
        "   * Set water bath to 37°C.\n",
        "   * Pre-warm FBS and RPMI 1640.\n",
        "2. **Thaw cryovials:**\n",
        "   * Obtain and place the cryovials on dry ice.\n",
        "   * Rapidly thaw cryovials in a 37°C water bath.\n",
        "   * Clean vial with ethanol.\n",
        "3. **Prepare PBMC suspension:**\n",
        "   * Transfer thawed PBMCs dropwise into 3 mL pre-warmed FBS.\n",
        "   * Add 12 mL pre-warmed RPMI 1640.\n",
        "4. **Centrifuge and wash:**\n",
        "   * Centrifuge the PBMCs at 300 x g for 5 minutes at RT. Discard the supernatant by pipetting.\n",
        "   * Resuspend pellet in 10 mL pre-warmed RPMI 1640 with 10% FBS.\n",
        "5. **Assess cell viability and concentration:**\n",
        "   * Perform cell viability and concentration assessment using an automatic cell counter. Premix 2 ul dye with 18 ul PBMCs and load 10 ul on the cell counter"
      ],
      "metadata": {
        "id": "3h-0QpB9amvq"
      }
    },
    {
      "cell_type": "code",
      "source": [
        "freezing_medium(100, 20, 10)"
      ],
      "metadata": {
        "id": "CrQk-YmcyLXy",
        "outputId": "761aaa4d-cfa7-47a5-c083-328c95e75000",
        "colab": {
          "base_uri": "https://localhost:8080/"
        }
      },
      "execution_count": 4,
      "outputs": [
        {
          "output_type": "execute_result",
          "data": {
            "text/plain": [
              "{'RPMI_1640': 70.0, 'FBS': 20.0, 'DMSO': 10.0}"
            ]
          },
          "metadata": {},
          "execution_count": 4
        }
      ]
    }
  ]
}