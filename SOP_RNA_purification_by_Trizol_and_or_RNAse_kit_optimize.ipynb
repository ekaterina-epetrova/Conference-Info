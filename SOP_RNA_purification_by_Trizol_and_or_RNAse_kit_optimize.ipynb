{
  "nbformat": 4,
  "nbformat_minor": 0,
  "metadata": {
    "colab": {
      "provenance": [],
      "toc_visible": true,
      "authorship_tag": "ABX9TyPmAe4t/Xm6MCOOPltBP8H2",
      "include_colab_link": true
    },
    "kernelspec": {
      "name": "python3",
      "display_name": "Python 3"
    },
    "language_info": {
      "name": "python"
    }
  },
  "cells": [
    {
      "cell_type": "markdown",
      "metadata": {
        "id": "view-in-github",
        "colab_type": "text"
      },
      "source": [
        "<a href=\"https://colab.research.google.com/github/ekaterina-epetrova/Conference-Info/blob/master/SOP_RNA_purification_by_Trizol_and_or_RNAse_kit_optimize.ipynb\" target=\"_parent\"><img src=\"https://colab.research.google.com/assets/colab-badge.svg\" alt=\"Open In Colab\"/></a>"
      ]
    },
    {
      "cell_type": "markdown",
      "source": [
        "## Summary\n",
        "\n",
        "This protocol describes the steps required to extract total RNA from sorted/non-sorted porcine PBMCs. The PBMCs are isolated as descibed in SOP_1 and potentially sorted as descibed in SOP_2.\n",
        "\n",
        "The expected RNA yield dependents on the amount of starting material and varies between ...\n",
        "\n",
        "Due to biosafety considerations (export from BSL4), the sorted/unsorted PBMCs are resuspended in Trizol LS prior to the RNA extraction. The samples are either directly processed or store at -20C till export. Afterwards the samples are processed with RNeasy Plus Mini Kit"
      ],
      "metadata": {
        "id": "FN-Ak0ghDnwG"
      }
    },
    {
      "cell_type": "markdown",
      "source": [
        "# New Section"
      ],
      "metadata": {
        "id": "ZVHIlG6Ji7JA"
      }
    },
    {
      "cell_type": "markdown",
      "source": [
        "## Key resources table\n",
        "\n",
        "| Reagent or Resource | Source | Identifier | Other |\n",
        "|---|---|---|---|\n",
        "| **Chemicals** |  |  |  |\n",
        "| Trizol reagent |  |  | Always shake before use |\n",
        "| Ethanol |  |  | Prepare 70% ethanol fresh |\n",
        "| β-Mercaptoethanol |  |  |  |\n",
        "| Chlorophorm | Fisher Scientific | ICN19400290 |  |\n",
        "| Nuclease-free water | Fisher Scientific | ICN19400290 |  |\n",
        "| **Experimental models: Organisms/strains** |  |  |  |\n",
        "| porcine PBMCs |  |  |  |\n",
        "| **Commercial Kits** |  |  |  |\n",
        "| RNeasy Plus Mini Kit | Qiagen | 74134 |  |\n",
        "| **Other** |  |  |  |\n",
        "| Cryogenic vial |  |  |  |\n",
        "| Isopropanol freezing container |  |  | Place at 4ºC |\n",
        "DNA LoBind Microcentrifuge Tubes 1.5mL (Thermo Scientific, Cat#13-698-791)\n",
        "\n",
        "\n"
      ],
      "metadata": {
        "id": "M7OF_2hQan4i"
      }
    },
    {
      "cell_type": "markdown",
      "source": [
        "## Step-by-step method details\n",
        "\n",
        "### Preparation:\n",
        "  * Pre-setting centrifuges to the appropriate temperatures (4°C and RT).\n",
        "\n",
        "### Sample preparation:\n",
        "  1. Following SOP3, centrifuge the PBMCs at 300 × g for 5 min at RT.\n",
        "  2. Resuspend the cell pellet in ice-cold PBS at a concentration of 7.5 × 10^6 cells/mL. Pipette the cells gently to avoid mechanical stress.\n",
        "  3. Tranfer 1 mL cell suspension to RNAse-free Eppendorf tubes.\n",
        "  4. Centrifuge the cells at 300 × g for 5 min at 4°C.\n",
        "  5. Resuspend the pellet in 1 mL Trizol reagent. Pipette gently\n",
        "  6. Incubate the samples at RT for 5 min to ensures complete lysis of cells and release of RNA into the solution. Mix by flicking gently to ensure even distribution of Trizol without introducing air bubbles, which could lead to RNA shearing.\n",
        "  7. Optional, if the sample has particulate matter (e.g., debris or undissolved components), it can interfere with RNA extraction. Centrifugation at 12,000 × g removes these impurities, leaving a clear supernatant that contains the RNA.\n",
        "How: Carefully transfer the clear supernatant to avoid contaminating it with debris.\n",
        "Sample Storage:\n",
        "\n",
        "Why: If you need to pause, storing the sample at -20°C stabilizes the RNA until you're ready to proceed. This is especially important if you can't complete the protocol immediately.\n",
        "How: Store at -20°C, but avoid repeated freeze-thaw cycles, which can degrade RNA.\n",
        "Notes:\n",
        "\n",
        "Why: Adjusting the Trizol volume to 1 mL if it's less ensures consistent reagent conditions for effective lysis and RNA extraction.\n",
        "How: Simply add more Trizol until the volume reaches 1 mL.\n",
        "\n",
        "\n",
        "### Trizol/Chloroform RNA extraction:\n",
        "  1. Add 1/5 volume chloroform to the sample (e.g., 200 µL chloroform to 1 mL Trizol sample). Shake vigorously for 15 s.\n",
        "  2. Incubate the sample for 3 min at RT to allow phase separation.\n",
        "  3. Centrifuge the sample at 12 000 x g for 15 min at 4°C. This step separates the mixture into three distinct layers:\n",
        "  * Upper aqueous layer (RNA-containing) - transparent\n",
        "  * Middle interphase layer (DNA-containing) - white\n",
        "  * Lower organic layer (protein-containing) - pink\n",
        "  4. Carefully transfer the upper aqueous layer to a new RNase-free tube. Avoid transferring any of the lower layers.\n",
        "\n",
        "### RNA purification by Qiagen RNeasy Plus Mini Kit\n",
        "\n",
        "The following steps describe the purification of RNA by a commercial kit.\n",
        "\n",
        "2. Add up to 700 µL sample to the gDNA Eliminator column and centrifuge at 14 000 x g for 15 s at RT. Collect the flow-through containing the purified RNA.\n",
        "3. Add 1 volume of 70% ethanol to the purified RNA sample. Mix the solution thoroughly by pipetting up and down several times.\n",
        "4. Add up to 700 µL of the ethanol/RNA mixture to an RNeasy Mini spin column placed in a 2 mL collection tube. Close the lid gently.\n",
        "Centrifuge at 14 000 x g for 30 s at RT. Discard the flow-through. Repeat the step if additional volume of the ethanol/RNA mixture is available. Discard the flow through.\n",
        "6. Add up to 700 µL RW1 buffer onto the column, centrifuge at 14,000 x g for 15 s at RT. Discard the flow through.\n",
        "7. Add 500 μL RPE buffer onto the RNeasy Mini column, centrifuge at 14 000 x g for 30 s at RT. Discard the flow through.\n",
        "7. Add 500 μL RPE buffer onto the RNeasy Mini column, centrifuge at 14 000 x g for 2 min at RT. Discard the flow through.\n",
        "8. Transfer the column in to a new 2 ml collection tube and centrifuge 4 000 x g for 2 min to dry the membrane. Discard flow-through.\n",
        "9. Transfer RNeasy mini column to a new 1.5mL collection tube.\n",
        "10. Add 30 - 50 μL RNase-free water directly onto the membrane. Incubate at RT for 10 min. Close tube gently, and centrifuge at 8,000 x g for 1 min.\n"
      ],
      "metadata": {
        "id": "gjPkTSCnxDg_"
      }
    },
    {
      "cell_type": "markdown",
      "source": [
        "**bold text**"
      ],
      "metadata": {
        "id": "PQv9kuSWqvQe"
      }
    },
    {
      "cell_type": "markdown",
      "source": [],
      "metadata": {
        "id": "JjVdVVDCqwdP"
      }
    }
  ]
}